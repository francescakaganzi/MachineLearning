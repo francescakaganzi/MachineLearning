{
  "cells": [
    {
      "cell_type": "markdown",
      "metadata": {
        "id": "view-in-github",
        "colab_type": "text"
      },
      "source": [
        "<a href=\"https://colab.research.google.com/github/francescakaganzi/ML/blob/main/01_Python_Introduction_Lab_(Francesca_Kaganzi).ipynb\" target=\"_parent\"><img src=\"https://colab.research.google.com/assets/colab-badge.svg\" alt=\"Open In Colab\"/></a>"
      ]
    },
    {
      "cell_type": "markdown",
      "id": "03c4ee7c-8b1c-4ff8-9638-6e45f4802bb5",
      "metadata": {
        "id": "03c4ee7c-8b1c-4ff8-9638-6e45f4802bb5"
      },
      "source": [
        "### Introduction to Python\n",
        "#### Date: Sep 06,2023\n",
        "#### Submission must be made through Github\n",
        "You are required to complete all tasks correctly (or almost correctly) . You are free to use any material (lecture, Stackoverflow etc.) except full solutions but you should first try to figure them out on your own. We use an nbgrader for partially autograding the assignments. Please DO NOT delete or copy cells. You can add new cells but your solutions should go into the designated cells."
      ]
    },
    {
      "cell_type": "markdown",
      "id": "79ceb440-0a4a-4cfe-92a8-d8d2d410e1e1",
      "metadata": {
        "id": "79ceb440-0a4a-4cfe-92a8-d8d2d410e1e1"
      },
      "source": [
        "`range()` practice"
      ]
    },
    {
      "cell_type": "markdown",
      "id": "a56105d9-2e08-49de-bf42-4ed89f531dca",
      "metadata": {
        "id": "a56105d9-2e08-49de-bf42-4ed89f531dca"
      },
      "source": [
        "1 . Print the numbers between 60 and 69 inclusive."
      ]
    },
    {
      "cell_type": "code",
      "execution_count": null,
      "id": "9672a3e9-7f15-4956-b6e4-669b03a88cc0",
      "metadata": {
        "id": "9672a3e9-7f15-4956-b6e4-669b03a88cc0",
        "outputId": "747fc4de-419b-4e92-88d5-e4fa4d4c24c9"
      },
      "outputs": [
        {
          "name": "stdout",
          "output_type": "stream",
          "text": [
            "60\n",
            "61\n",
            "62\n",
            "63\n",
            "64\n",
            "65\n",
            "66\n",
            "67\n",
            "68\n",
            "69\n"
          ]
        }
      ],
      "source": [
        "for i in range(60, 70):\n",
        "    print(i)"
      ]
    },
    {
      "cell_type": "markdown",
      "id": "b74e0b6f-b2e2-4b93-a13f-73a3304171d4",
      "metadata": {
        "id": "b74e0b6f-b2e2-4b93-a13f-73a3304171d4"
      },
      "source": [
        "2 . Read numbers until 0 and print their mean and standard deviation without using a list."
      ]
    },
    {
      "cell_type": "code",
      "execution_count": null,
      "id": "57c6caad-8250-4346-ada9-418b1fb7e5c8",
      "metadata": {
        "id": "57c6caad-8250-4346-ada9-418b1fb7e5c8"
      },
      "outputs": [],
      "source": [
        "import random\n",
        "\n",
        "count = 0\n",
        "sum_numbers = 0\n",
        "sum_squared_numbers = 0\n",
        "\n",
        "num_values = random.randint(5, 10)\n",
        "print(f\"Generating {num_values} random integers:\")\n",
        "\n",
        "while count < num_values:\n",
        "    try:\n",
        "        num = random.randint(1, 100)  # Generate random integers between 1 and 100\n",
        "\n",
        "        count += 1\n",
        "        sum_numbers += num\n",
        "        sum_squared_numbers += num ** 2\n",
        "\n",
        "        print(num)  # Output the generated integer\n",
        "    except ValueError:\n",
        "        print(\"Invalid input. Please enter a valid integer.\")\n",
        "\n",
        "if count == 0:\n",
        "    print(\"No numbers generated.\")\n",
        "else:\n",
        "    mean = sum_numbers / count\n",
        "    variance = (sum_squared_numbers / count) - (mean ** 2)\n",
        "    std_deviation = variance ** 0.5\n",
        "\n",
        "    print(\"\\nStatistics:\")\n",
        "    print(f\"Mean: {mean}\")\n",
        "    print(f\"Standard Deviation: {std_deviation}\")\n"
      ]
    },
    {
      "cell_type": "markdown",
      "id": "43d383f5-1f59-47fd-99a5-938bf2c2e937",
      "metadata": {
        "id": "43d383f5-1f59-47fd-99a5-938bf2c2e937"
      },
      "source": [
        "3 . Print the odd numbers from this list. `l = [2, 3, -2, -7, 0, 2, 3]`"
      ]
    },
    {
      "cell_type": "code",
      "execution_count": null,
      "id": "8423d0f0-c4a6-4ac0-9100-523c8e8b9dff",
      "metadata": {
        "id": "8423d0f0-c4a6-4ac0-9100-523c8e8b9dff"
      },
      "outputs": [],
      "source": [
        "l = [2, 3, -2, -7, 0, 2, 3]\n",
        "\n",
        "for odd in l:\n",
        "    if odd % 2 != 0:\n",
        "        print(odd)\n",
        "\n",
        "odd_number = [odd for odd in l if odd % 2 != 0]\n",
        "print(*odd_number)"
      ]
    },
    {
      "cell_type": "markdown",
      "id": "ba8c7678-f149-46fd-a59c-1740c6b31662",
      "metadata": {
        "id": "ba8c7678-f149-46fd-a59c-1740c6b31662"
      },
      "source": [
        "##### Functions\n",
        "4 . Write a function that takes an integer parameter `(N)` and returns a list of the first `N` prime numbers starting from 2."
      ]
    },
    {
      "cell_type": "code",
      "execution_count": null,
      "id": "c11489ad-16c8-458e-bb07-6269fdc0ac67",
      "metadata": {
        "id": "c11489ad-16c8-458e-bb07-6269fdc0ac67"
      },
      "outputs": [],
      "source": [
        "def is_prime(number):\n",
        "    if number > 1:\n",
        "        for num in range(2, number // 2 + 1):\n",
        "            if number % num == 0:\n",
        "                return False\n",
        "        return True\n",
        "    return False\n",
        "\n",
        "\n",
        "def get_n_primes(N):\n",
        "    prime_numbers = []\n",
        "    num = 2\n",
        "    while len(prime_numbers) < N:\n",
        "        if is_prime(num):\n",
        "            prime_numbers.append(num)\n",
        "        num += 1\n",
        "    return prime_numbers\n",
        "\n",
        "\n",
        "# Test\n",
        "N = 5  # You can change N to any positive integer\n",
        "primes = get_n_primes(N)\n",
        "print(primes)"
      ]
    },
    {
      "cell_type": "code",
      "execution_count": null,
      "id": "0349ebb9-189e-437b-a3f0-8ed95de70b67",
      "metadata": {
        "id": "0349ebb9-189e-437b-a3f0-8ed95de70b67"
      },
      "outputs": [],
      "source": [
        "assert(get_n_primes(3) == [2, 3, 5])\n",
        "assert(get_n_primes(0) == [])"
      ]
    },
    {
      "cell_type": "markdown",
      "id": "faa7415c-d5d9-4248-95d2-588b6919c59c",
      "metadata": {
        "id": "faa7415c-d5d9-4248-95d2-588b6919c59c"
      },
      "source": [
        "5. Write a function that takes an integer parameter (N) and returns the Nth Fibonacci number.\n",
        "\n",
        " The Fibonacci series is defined as:\n",
        "\n",
        "$$\n",
        "F_n = F_{n-1} + F_{n-2} \\text{ for } n>1\\\\\n",
        "F_0 = 0\\\\\n",
        "F_1 = 1\n",
        "$$\n",
        "\n",
        "The first few elements of the Fibonacci series are 0, 1, 1, 2, 3, 5, 8, 13 etc.\n",
        "\n",
        "Raise a `ValueError` if $N<0$.\n"
      ]
    },
    {
      "cell_type": "code",
      "execution_count": null,
      "id": "2cdba1a3-855c-483f-a5b0-eba31d98c186",
      "metadata": {
        "id": "2cdba1a3-855c-483f-a5b0-eba31d98c186"
      },
      "outputs": [],
      "source": [
        "def get_nth_fibonacci(n):\n",
        "    if n < 0:\n",
        "        raise ValueError('Enter a positive number')\n",
        "    # First Fibonacci number is 0\n",
        "    elif n == 0:\n",
        "        return 0\n",
        "    # Second Fibonacci number is 1\n",
        "    elif n == 1:\n",
        "        return 1\n",
        "    else:\n",
        "        return get_nth_fibonacci(n-1)+get_nth_fibonacci(n-2)\n",
        "\n",
        "\n",
        "# Test\n",
        "print(get_nth_fibonacci(2))"
      ]
    },
    {
      "cell_type": "code",
      "execution_count": null,
      "id": "d6b671a5-1c06-4f25-889e-599d5dedc9ae",
      "metadata": {
        "id": "d6b671a5-1c06-4f25-889e-599d5dedc9ae"
      },
      "outputs": [],
      "source": [
        "assert(get_nth_fibonacci(0) == 0)\n",
        "assert(get_nth_fibonacci(1) == 1)\n",
        "assert(get_nth_fibonacci(2) == 1)\n",
        "assert(get_nth_fibonacci(5) == 5)\n",
        "assert(get_nth_fibonacci(7) == 13)\n",
        "\n",
        "try:\n",
        "    get_nth_fibonacci(-2)\n",
        "except ValueError:\n",
        "    pass\n",
        "else:\n",
        "    AssertionError(\"TEST FAILS. Negative index should raise a ValueError.\")"
      ]
    },
    {
      "cell_type": "markdown",
      "id": "fc2960b4-e2b4-4e98-9284-9acb6e682182",
      "metadata": {
        "id": "fc2960b4-e2b4-4e98-9284-9acb6e682182"
      },
      "source": [
        "6 . Create a function that take a list and a predicate (function with boolean return value) as parameters and returns a new list of those elements which the predicate return True. A predicate is a function that takes one element and return `True` or `False`, for example `is_even`, `is_prime`. If you implemented The following tests should run.\n"
      ]
    },
    {
      "cell_type": "code",
      "execution_count": null,
      "id": "a5bbd70f-1ba6-4a46-8b14-bc8b82da1a18",
      "metadata": {
        "id": "a5bbd70f-1ba6-4a46-8b14-bc8b82da1a18"
      },
      "outputs": [],
      "source": [
        "def filter_with_predicate(input_list, predicate):\n",
        "    filtered_list = []\n",
        "    for item in input_list:\n",
        "        if predicate(item):\n",
        "            filtered_list.append(item)\n",
        "    return filtered_list\n",
        "\n",
        "\n",
        "def is_even(x):\n",
        "    return x % 2 == 0\n",
        "\n",
        "\n",
        "def is_odd(x):\n",
        "    return x % 2 == 1\n",
        "\n",
        "\n",
        "def is_prime(number):\n",
        "    if number > 1:\n",
        "        for num in range(2, number // 2 + 1):\n",
        "            if number % num == 0:\n",
        "                return False\n",
        "        return True\n",
        "    return False\n",
        "\n",
        "\n",
        "l1 = [1, 2, 3, 4, 19, 35, 11]\n",
        "l2 = [1, 4, 9, 16, 25]\n",
        "\n",
        "# Test 1: Filter l1 odd numbers\n",
        "filtered_odd = filter_with_predicate(l1, is_odd)\n",
        "print(\"l1 Odd numbers:\", filtered_odd)\n",
        "\n",
        "# Test 2: Filter l1 prime numbers\n",
        "filtered_prime = filter_with_predicate(l1, is_prime)\n",
        "print(\"l1 Prime numbers:\", filtered_prime)\n",
        "\n",
        "# Test 3: Filter l2 prime numbers\n",
        "filtered_prime = filter_with_predicate(l2, is_prime)\n",
        "print(\"l2 Prime numbers:\", filtered_prime)"
      ]
    },
    {
      "cell_type": "code",
      "execution_count": null,
      "id": "a2622238-54c7-4561-b6e6-52020207940f",
      "metadata": {
        "id": "a2622238-54c7-4561-b6e6-52020207940f"
      },
      "outputs": [],
      "source": [
        "l1 = [1, 2, 3, 4, 19, 35, 11]\n",
        "l2 = [1, 4, 9, 16, 25]\n",
        "assert(filter_list(l1, is_odd) == [1, 3, 19, 35, 11])\n",
        "assert(filter_list(l1, is_prime) == [2, 3, 19, 11])\n",
        "assert(filter_list(l2, is_prime) == [])"
      ]
    },
    {
      "cell_type": "markdown",
      "id": "11b4614e-75b6-4735-bbb3-54899d386014",
      "metadata": {
        "id": "11b4614e-75b6-4735-bbb3-54899d386014"
      },
      "source": [
        "7.  Reduce is a function that applies a two argument function against an accumulator and each element in the sequence (from left to right) to reduce it to a single value. If no initial value is provided, the accumulator is initialized with the return value of the function run on the first two elements of the sequence.\n",
        "\n",
        "```\n",
        "reduce([1, 2, 3], product) ---> 6\n",
        "reduce([1, 2, 3], product, accumulator=10) ---> 60\n",
        "reduce([\"foo\", \"bar\"], string_addition) ---> \"foobar\"\n",
        "reduce([\"foo\", \"bar\"], string_addition, accumulator=\"hello\") ---> \"hellofoobar\"\n",
        "```"
      ]
    },
    {
      "cell_type": "code",
      "execution_count": null,
      "id": "8101a46d-4eb0-46ee-951d-ad3a32619d84",
      "metadata": {
        "id": "8101a46d-4eb0-46ee-951d-ad3a32619d84"
      },
      "outputs": [],
      "source": [
        "from functools import reduce\n",
        "\n",
        "l1 = [1, 2, -1, 5]\n",
        "l2 = [\"foo\", \"bar\", \"hello\"]\n",
        "\n",
        "def product(x, y):\n",
        "    return x * y\n",
        "\n",
        "\n",
        "def string_len_add(x, y):\n",
        "    return x + len(y)\n",
        "\n",
        "\n",
        "def reduce(sequence, func, accumulator=None):\n",
        "    # If no accumulator is provided, initialize it with the first element\n",
        "    if accumulator is None:\n",
        "        accumulator = sequence[0]\n",
        "        start_index = 1\n",
        "    else:\n",
        "        start_index = 0\n",
        "\n",
        "    # Iterate through the sequence and apply the function cumulatively\n",
        "    for i in range(start_index, len(sequence)):\n",
        "        accumulator = func(accumulator, sequence[i])\n",
        "\n",
        "    return accumulator\n",
        "\n",
        "\n",
        "# Test\n",
        "#reduce(l1, add) == 7\n",
        "#reduce(l1, add, 10) == 17\n",
        "#reduce(l2, string_len_add, 0) == 11"
      ]
    },
    {
      "cell_type": "code",
      "execution_count": null,
      "id": "06afdae8-d4b5-4a65-85ab-bd469456caed",
      "metadata": {
        "id": "06afdae8-d4b5-4a65-85ab-bd469456caed"
      },
      "outputs": [],
      "source": [
        "l1 = [1, 2, -1, 5]\n",
        "l2 = [\"foo\", \"bar\", \"hello\"]\n",
        "\n",
        "assert(reduce(l1, add) == 7)\n",
        "assert(reduce(l1, add, 10) == 17)\n",
        "assert(reduce(l2, string_len_add, 0) == 11)"
      ]
    },
    {
      "cell_type": "markdown",
      "id": "d5057830-6794-4d2d-ac06-02b44b852186",
      "metadata": {
        "id": "d5057830-6794-4d2d-ac06-02b44b852186"
      },
      "source": [
        "8. Use your reduce function for the following operations:\n",
        "\n",
        "##### a. count the number of odd elements in a list of integers,\n",
        "##### b. find the maximum of a list of integers,\n",
        "##### c. find the longest string in list of strings.\n",
        "\n",
        "``` Test your solutions. ```"
      ]
    },
    {
      "cell_type": "code",
      "execution_count": null,
      "id": "dbb28576-5abb-4b90-8e9f-c4bfcaffc3b7",
      "metadata": {
        "id": "dbb28576-5abb-4b90-8e9f-c4bfcaffc3b7"
      },
      "outputs": [],
      "source": [
        "from functools import reduce\n",
        "\n",
        "l1 = [1, 2, -1, 5]\n",
        "l2 = [\"foo\", \"bar\", \"hello\"]\n",
        "\n",
        "# Define a function to count odd numbers\n",
        "def count_odd(odd, x):\n",
        "    if x % 2 != 0:\n",
        "        return odd + 1\n",
        "    return odd\n",
        "\n",
        "\n",
        "# Define a function to find the maximum\n",
        "def find_max(highest, y):\n",
        "    return max(highest, y)\n",
        "\n",
        "\n",
        "# Define a function to find the longest string\n",
        "def find_longest(long, z):\n",
        "    return long if len(long) >= len(z) else z\n",
        "\n",
        "\n",
        "# Use reduce to count odd numbers in the list\n",
        "count = reduce(count_odd, l1, 0)\n",
        "print(count)\n",
        "\n",
        "# Use reduce to find the maximum in the list\n",
        "max_value = reduce(find_max, l1)\n",
        "print(max_value)\n",
        "\n",
        "# Use reduce to find the longest string in the list\n",
        "longest_string = reduce(find_longest, l2)\n",
        "print(longest_string)"
      ]
    },
    {
      "cell_type": "code",
      "execution_count": null,
      "id": "af799981-375d-4c42-8dc1-83908ed0e8a4",
      "metadata": {
        "id": "af799981-375d-4c42-8dc1-83908ed0e8a4"
      },
      "outputs": [],
      "source": [
        "# YOUR CODE HERE\n",
        "raise NotImplementedError()"
      ]
    },
    {
      "cell_type": "markdown",
      "id": "3c077854-065c-4c34-9def-93b57b32e9db",
      "metadata": {
        "id": "3c077854-065c-4c34-9def-93b57b32e9db"
      },
      "source": [
        "9. Create a function that takes a matrix of size NxM and returns the pairwise L2 distance of each row pair.\n",
        "\n",
        "For input $A^{N \\times M}$, the output should be $D^{N \\times N}$ where: $D_{i,j} = L_2 (A_i, A_j)$"
      ]
    },
    {
      "cell_type": "code",
      "execution_count": null,
      "id": "b987aeec-458a-4ae7-b203-59334bdb725e",
      "metadata": {
        "id": "b987aeec-458a-4ae7-b203-59334bdb725e"
      },
      "outputs": [],
      "source": [
        "import numpy as np\n",
        "\n",
        "def is_matrix(matrix):\n",
        "    # Check if the input is a matrix (list of lists) by verifying that all rows have the same length\n",
        "    return all(len(row) == len(matrix[0]) for row in matrix)\n",
        "\n",
        "def transpose(matrix):\n",
        "    # Transpose a matrix (swap rows and columns)\n",
        "    return [[matrix[j][i] for j in range(len(matrix))] for i in range(len(matrix[0]))]\n",
        "\n",
        "def pairwise_row_distance(matrix):\n",
        "    if not is_matrix(matrix):\n",
        "        raise ValueError(\"Input is not a valid matrix.\")\n",
        "\n",
        "    # Calculate the pairwise L2 distances using NumPy\n",
        "    # matrix = np.array(matrix)\n",
        "    # distances = np.linalg.norm(matrix[:, np.newaxis] - matrix, axis=2)\n",
        "    # Ensure that the input matrix is a NumPy array for efficient calculations\n",
        "    matrix = np.array(matrix)\n",
        "\n",
        "\n",
        "    # Get the number of rows and columns in the matrix\n",
        "    num_rows, num_cols = matrix.shape\n",
        "\n",
        "    # Initialize a square matrix to store the pairwise L2 distances\n",
        "    pairwise_distances = np.zeros((num_rows, num_rows))\n",
        "\n",
        "\n",
        "    # Calculate the pairwise L2 distances\n",
        "    for i in range(num_rows):\n",
        "        for j in range(i, num_rows):\n",
        "            distance = np.linalg.norm(matrix[i] - matrix[j])\n",
        "            pairwise_distances[i][j] = distance\n",
        "            pairwise_distances[j][i] = distance  # The matrix is symmetric\n",
        "\n",
        "    return pairwise_distances.tolist()\n",
        "\n",
        "    # return distances.tolist()\n",
        "\n",
        "\n",
        "D = pairwise_row_distance([[1, 0, 2], [0, 2, 1]])"
      ]
    },
    {
      "cell_type": "code",
      "execution_count": null,
      "id": "a8a40461-7af8-41f7-96f2-729f69c62ab8",
      "metadata": {
        "id": "a8a40461-7af8-41f7-96f2-729f69c62ab8"
      },
      "outputs": [],
      "source": [
        "D = pairwise_row_distance([[1, 0, 2], [0, 2, 1]])\n",
        "# should be a matrix\n",
        "assert is_matrix(D) == True\n",
        "assert len(D) == 2\n",
        "assert len(D[0]) == 2\n",
        "assert D[0][0] == 0\n",
        "assert abs(D[0][1] - 2.449489742783178) < 1e-3\n",
        "assert abs(D[1][0] - 2.449489742783178) < 1e-3\n",
        "assert D[1][1] == 0\n",
        "\n",
        "# should be symmetric\n",
        "assert transpose(D) == D"
      ]
    },
    {
      "cell_type": "markdown",
      "id": "211444ab-c1e5-47cf-86d1-ca72d009b7d1",
      "metadata": {
        "id": "211444ab-c1e5-47cf-86d1-ca72d009b7d1"
      },
      "source": [
        "10 . Object Oriented Programming\n",
        " Define a class named `A` with a 'constructor' that takes a single parameter and stores it in an attribute named `value`. Add a `print_value` method to the class. Instantiate the class and call the `print_value` method."
      ]
    },
    {
      "cell_type": "code",
      "execution_count": null,
      "id": "86213a2e-3268-45aa-90cc-151c8ef4417f",
      "metadata": {
        "id": "86213a2e-3268-45aa-90cc-151c8ef4417f"
      },
      "outputs": [],
      "source": [
        "class A:\n",
        "    def __init__(self, value):\n",
        "        self.value = value\n",
        "\n",
        "    def print_value(self):\n",
        "        print(self.value)\n",
        "\n",
        "\n",
        "instance = A(\"abc\")\n",
        "instance.print_value()\n"
      ]
    },
    {
      "cell_type": "code",
      "execution_count": null,
      "id": "70769d9e-d21e-4685-8436-6f4de2b1b798",
      "metadata": {
        "id": "70769d9e-d21e-4685-8436-6f4de2b1b798"
      },
      "outputs": [],
      "source": [
        "a = A(\"abc\")\n",
        "a.print_value()"
      ]
    },
    {
      "cell_type": "markdown",
      "id": "b2c7b287-c0ec-4fba-ba52-69aedfb3f9e5",
      "metadata": {
        "id": "b2c7b287-c0ec-4fba-ba52-69aedfb3f9e5"
      },
      "source": [
        "11.  Define a class named `B`, whose `__init__` takes two parameters and stores one in a public attribute and the other in a private attribute named `this_is_public` and `__this_is_private` respectively. Check the class's ``__dict__``  attribute and find out the mangled name of the private attribute."
      ]
    },
    {
      "cell_type": "code",
      "execution_count": 2,
      "id": "887717c5-b8e6-4e4f-a389-167cc3ad2f90",
      "metadata": {
        "colab": {
          "base_uri": "https://localhost:8080/"
        },
        "id": "887717c5-b8e6-4e4f-a389-167cc3ad2f90",
        "outputId": "b094e3ee-7311-4ea3-f804-6fa01be6118e"
      },
      "outputs": [
        {
          "output_type": "stream",
          "name": "stdout",
          "text": [
            "1\n",
            "Failed to access private attribute, this is good :)\n",
            "{'__module__': '__main__', '__init__': <function B.__init__ at 0x7da3101e5240>, '__dict__': <attribute '__dict__' of 'B' objects>, '__weakref__': <attribute '__weakref__' of 'B' objects>, '__doc__': None}\n"
          ]
        }
      ],
      "source": [
        "class B:\n",
        "    def __init__(self, public_attr, private_attr):\n",
        "        self.this_is_public = public_attr\n",
        "        self.__this_is_private = private_attr\n",
        "\n",
        "# Create an instance of the class B\n",
        "b = B(1, 2)\n",
        "\n",
        "# Access the public attribute\n",
        "print(b.this_is_public)  # Output: public_value\n",
        "\n",
        "# Accessing the private attribute directly will raise an AttributeError\n",
        "# print(b.__this_is_private)\n",
        "try:\n",
        "    b.__this_is_private\n",
        "    print(\"This should not happen.\")\n",
        "except AttributeError:\n",
        "    print(\"Failed to access private attribute, this is good :)\")\n",
        "\n",
        "\n",
        "# Check the class's __dict__ attribute to find the mangled name\n",
        "print(B.__dict__)\n"
      ]
    },
    {
      "cell_type": "code",
      "execution_count": null,
      "id": "2890d450-5191-4dd0-91ef-4dc5f84b511c",
      "metadata": {
        "id": "2890d450-5191-4dd0-91ef-4dc5f84b511c"
      },
      "outputs": [],
      "source": [
        "b = B(1, 2)\n",
        "assert b.this_is_public == 1\n",
        "try:\n",
        "    b.__this_is_private\n",
        "    print(\"This should not happen.\")\n",
        "except AttributeError:\n",
        "    print(\"Failed to access private attribute, this is good :)\")"
      ]
    },
    {
      "cell_type": "markdown",
      "id": "4197c752-3a45-4e48-a3e3-2fd8a8172387",
      "metadata": {
        "id": "4197c752-3a45-4e48-a3e3-2fd8a8172387"
      },
      "source": [
        "13 . Inheritance\n",
        "\n",
        "###### Guess the output without running the cell."
      ]
    },
    {
      "cell_type": "code",
      "execution_count": null,
      "id": "2a142442-f03b-438d-bca6-3a2c7c16ab7e",
      "metadata": {
        "id": "2a142442-f03b-438d-bca6-3a2c7c16ab7e"
      },
      "outputs": [],
      "source": [
        "class A(object): pass\n",
        "class B(A): pass\n",
        "class C(A): pass\n",
        "class D(B): pass\n",
        "\n",
        "a = A()\n",
        "b = B()\n",
        "c = C()\n",
        "d = D()\n",
        "\n",
        "print(isinstance(a, object))\n",
        "print(isinstance(b, object))\n",
        "print(isinstance(a, B))\n",
        "print(isinstance(b, A))\n",
        "print(isinstance(d, A))"
      ]
    },
    {
      "cell_type": "markdown",
      "source": [
        "True True False True True"
      ],
      "metadata": {
        "id": "IIKHpImgLkzs"
      },
      "id": "IIKHpImgLkzs"
    },
    {
      "cell_type": "code",
      "execution_count": null,
      "id": "c637dbb5-1350-4fbd-bf2c-94f4a60d6e5a",
      "metadata": {
        "id": "c637dbb5-1350-4fbd-bf2c-94f4a60d6e5a"
      },
      "outputs": [],
      "source": [
        "print(issubclass(C, object))\n",
        "print(issubclass(D, B))\n",
        "print(issubclass(B, D))\n",
        "print(issubclass(B, B))"
      ]
    },
    {
      "cell_type": "markdown",
      "source": [
        "True True False True"
      ],
      "metadata": {
        "id": "w_D6DshuMIrc"
      },
      "id": "w_D6DshuMIrc"
    },
    {
      "cell_type": "markdown",
      "id": "2dc2067d-f15e-424a-b5f1-9782cb8c7ee5",
      "metadata": {
        "id": "2dc2067d-f15e-424a-b5f1-9782cb8c7ee5"
      },
      "source": [
        "#### Create a Cat, a Dog, a Fish and a Eagle class.\n",
        "\n",
        "The animals have the following attributes:\n",
        "\n",
        "1. cats, dogs and eagles can make a sound (this should be a make_sound function that prints the animals sound),\n",
        "2. all animals have an age and a number_of_legs attribute,\n",
        "3. cats and dogs have a fur_color attribute. They can be instantiated with a single color or a list or tuple of colors.\n",
        "\n",
        "Use inheritance and avoid repeating code. Use default values in the constructors."
      ]
    },
    {
      "cell_type": "code",
      "execution_count": null,
      "id": "58b41d3c-bc66-4e6a-bcc9-345814da6dd5",
      "metadata": {
        "id": "58b41d3c-bc66-4e6a-bcc9-345814da6dd5"
      },
      "outputs": [],
      "source": [
        "class Animal:\n",
        "    def __init__(self, name, age=0, number_of_legs=0):\n",
        "        self.name = name\n",
        "        self.age = age\n",
        "        self.number_of_legs = number_of_legs\n",
        "\n",
        "    def make_sound(self):\n",
        "        pass\n",
        "\n",
        "\n",
        "class Mammal(Animal):\n",
        "    def __init__(self, name, age=0, number_of_legs=4, fur_color=None):\n",
        "        super().__init__(name, age, number_of_legs)\n",
        "        if fur_color is None:\n",
        "            fur_color = []\n",
        "        elif isinstance(fur_color, str):\n",
        "            fur_color = [fur_color]\n",
        "        self.fur_color = fur_color\n",
        "\n",
        "\n",
        "class Cat(Mammal):\n",
        "    def make_sound(self):\n",
        "        print(f\"{self.name} says 'Meow!'\")\n",
        "\n",
        "\n",
        "class Dog(Mammal):\n",
        "    def make_sound(self):\n",
        "        print(f\"{self.name} says 'Woof!'\")\n",
        "\n",
        "\n",
        "class Fish(Animal):\n",
        "    def make_sound(self):\n",
        "        print(f\"{self.name} makes bubbling sounds as it swims.\")\n",
        "\n",
        "\n",
        "class Eagle(Animal):\n",
        "    def make_sound(self):\n",
        "        print(f\"{self.name} screeches loudly as it soars through the sky.\")\n",
        "\n",
        "# Test\n",
        "try:\n",
        "    cat = Cat(\"Fluffy\", age=3, fur_color=\"white\")\n",
        "    dog = Dog(\"Cherry\", age=1, fur_color=(\"white\", \"brown\", \"black\"))\n",
        "    fish = Fish(\"King\")\n",
        "    eagle = Eagle(\"Bruce\", age=2)\n",
        "    animals = [cat, dog, fish, eagle]\n",
        "except Exception as e:\n",
        "    print(f'Could not initialize an animal: {e}')"
      ]
    },
    {
      "cell_type": "code",
      "execution_count": null,
      "id": "cf485478-8ccb-4ece-b411-25aeda370733",
      "metadata": {
        "id": "cf485478-8ccb-4ece-b411-25aeda370733"
      },
      "outputs": [],
      "source": [
        "try:\n",
        "    cat = Cat(\"Fluffy\", age=3, fur=\"white\")\n",
        "    dog = Dog(\"Cherry\", age=1, fur=(\"white\", \"brown\", \"black\"))\n",
        "    fish = Fish(\"King\")\n",
        "    eagle = Eagle(\"Bruce\", age=2)\n",
        "    animals = [cat, dog, fish, eagle]\n",
        "except Exception as e:\n",
        "    print(f'Could not initialize an animal: {e}')"
      ]
    },
    {
      "cell_type": "markdown",
      "id": "05cce854-4ec1-4f38-8c59-a6a9d024a147",
      "metadata": {
        "id": "05cce854-4ec1-4f38-8c59-a6a9d024a147"
      },
      "source": [
        "#### Numpy basic exercises\n",
        "\n",
        "Use vectorization and avoid for loops in all exercises. Implement each exercise as a single function.\n",
        "\n",
        "##### Implement standardization for 2D arrays.\n",
        "\n",
        "Standardization is defined as:\n",
        "\n",
        "\\begin{equation*}\n",
        "X_{std} = \\frac{X - \\mu}{\\sigma},\n",
        "\\end{equation*}\n",
        "\n",
        "where $\\mu$ is the mean of each row and $\\rho$ is the standard deviation of each column."
      ]
    },
    {
      "cell_type": "code",
      "execution_count": 6,
      "id": "b0a6e8bb-88de-4598-a7d9-e667d944d41a",
      "metadata": {
        "colab": {
          "base_uri": "https://localhost:8080/"
        },
        "id": "b0a6e8bb-88de-4598-a7d9-e667d944d41a",
        "outputId": "3c7764d1-acde-405c-8449-96506bf30eb1"
      },
      "outputs": [
        {
          "output_type": "execute_result",
          "data": {
            "text/plain": [
              "array([[-1.,  1.],\n",
              "       [-1.,  1.],\n",
              "       [-1.,  1.]])"
            ]
          },
          "metadata": {},
          "execution_count": 6
        }
      ],
      "source": [
        "import numpy as np\n",
        "from mlxtend.preprocessing import standardize\n",
        "\n",
        "def custom_standardize(X):\n",
        "    X_std = standardize(X)\n",
        "    return X_std\n",
        "\n",
        "X_std = standardize(np.array([[1, 2], [2, 3], [1, 2]]))\n",
        "X_std"
      ]
    },
    {
      "cell_type": "markdown",
      "id": "1b248a73-d899-475b-bac0-a17382dfefab",
      "metadata": {
        "id": "1b248a73-d899-475b-bac0-a17382dfefab"
      },
      "source": [
        "#### Implement normalization for 2D arrays.\n",
        "\n",
        "Normalization is defined as:\n",
        "\n",
        "\\begin{equation*}\n",
        "X_{norm} = \\frac{X - X_{min}}{X_{max} - X_{min}}\n",
        "\\end{equation*}"
      ]
    },
    {
      "cell_type": "code",
      "execution_count": 5,
      "id": "95841093-e7e7-4f28-94b5-a53a554cddfe",
      "metadata": {
        "colab": {
          "base_uri": "https://localhost:8080/"
        },
        "id": "95841093-e7e7-4f28-94b5-a53a554cddfe",
        "outputId": "f25505c1-3db9-4310-dc0f-2016b6b7a979"
      },
      "outputs": [
        {
          "output_type": "stream",
          "name": "stdout",
          "text": [
            "[[ 0  1  2]\n",
            " [ 3  4 -5]]\n"
          ]
        },
        {
          "output_type": "execute_result",
          "data": {
            "text/plain": [
              "array([[ 0.        ,  0.14285714,  0.28571429],\n",
              "       [ 0.42857143,  0.57142857, -0.71428571]])"
            ]
          },
          "metadata": {},
          "execution_count": 5
        }
      ],
      "source": [
        "import numpy as np\n",
        "\n",
        "def normalize(X):\n",
        "\t# Only this is changed to use 2-norm put 2 instead of 1\n",
        "\tnorm = np.linalg.norm(X, 1)\n",
        "\t# normalized matrix\n",
        "\tX = X/norm\n",
        "\treturn X\n",
        "\n",
        "X = np.arange(6).reshape(2, 3)\n",
        "X[1, 2] = -5\n",
        "print(X)\n",
        "normalize(X)"
      ]
    },
    {
      "cell_type": "code",
      "execution_count": null,
      "id": "75fe2509-9e4a-45aa-8f41-e2dd6290d81a",
      "metadata": {
        "id": "75fe2509-9e4a-45aa-8f41-e2dd6290d81a"
      },
      "outputs": [],
      "source": [
        "answer = np.array(\n",
        "    [[0., 0., 1.],\n",
        "     [1., 1., 0.]]\n",
        ")\n",
        "X_norm = normalize(X)\n",
        "assert np.allclose(X_norm, answer)"
      ]
    }
  ],
  "metadata": {
    "kernelspec": {
      "display_name": "Python 3 (ipykernel)",
      "language": "python",
      "name": "python3"
    },
    "language_info": {
      "codemirror_mode": {
        "name": "ipython",
        "version": 3
      },
      "file_extension": ".py",
      "mimetype": "text/x-python",
      "name": "python",
      "nbconvert_exporter": "python",
      "pygments_lexer": "ipython3",
      "version": "3.11.4"
    },
    "colab": {
      "provenance": [],
      "include_colab_link": true
    }
  },
  "nbformat": 4,
  "nbformat_minor": 5
}